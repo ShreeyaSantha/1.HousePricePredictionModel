{
 "cells": [
  {
   "cell_type": "code",
   "execution_count": 84,
   "metadata": {},
   "outputs": [],
   "source": [
    "#Importing Libraries\n",
    "import pandas as pd \n",
    "import matplotlib.pyplot as plt \n",
    "import seaborn as sns"
   ]
  },
  {
   "cell_type": "code",
   "execution_count": 85,
   "metadata": {},
   "outputs": [
    {
     "data": {
      "text/html": [
       "<div>\n",
       "<style scoped>\n",
       "    .dataframe tbody tr th:only-of-type {\n",
       "        vertical-align: middle;\n",
       "    }\n",
       "\n",
       "    .dataframe tbody tr th {\n",
       "        vertical-align: top;\n",
       "    }\n",
       "\n",
       "    .dataframe thead th {\n",
       "        text-align: right;\n",
       "    }\n",
       "</style>\n",
       "<table border=\"1\" class=\"dataframe\">\n",
       "  <thead>\n",
       "    <tr style=\"text-align: right;\">\n",
       "      <th></th>\n",
       "      <th>Id</th>\n",
       "      <th>MSSubClass</th>\n",
       "      <th>MSZoning</th>\n",
       "      <th>LotArea</th>\n",
       "      <th>LotConfig</th>\n",
       "      <th>BldgType</th>\n",
       "      <th>OverallCond</th>\n",
       "      <th>YearBuilt</th>\n",
       "      <th>YearRemodAdd</th>\n",
       "      <th>Exterior1st</th>\n",
       "      <th>BsmtFinSF2</th>\n",
       "      <th>TotalBsmtSF</th>\n",
       "      <th>SalePrice</th>\n",
       "    </tr>\n",
       "  </thead>\n",
       "  <tbody>\n",
       "    <tr>\n",
       "      <th>0</th>\n",
       "      <td>0</td>\n",
       "      <td>60</td>\n",
       "      <td>RL</td>\n",
       "      <td>8450</td>\n",
       "      <td>Inside</td>\n",
       "      <td>1Fam</td>\n",
       "      <td>5</td>\n",
       "      <td>2003</td>\n",
       "      <td>2003</td>\n",
       "      <td>VinylSd</td>\n",
       "      <td>0.0</td>\n",
       "      <td>856.0</td>\n",
       "      <td>208500.0</td>\n",
       "    </tr>\n",
       "    <tr>\n",
       "      <th>1</th>\n",
       "      <td>1</td>\n",
       "      <td>20</td>\n",
       "      <td>RL</td>\n",
       "      <td>9600</td>\n",
       "      <td>FR2</td>\n",
       "      <td>1Fam</td>\n",
       "      <td>8</td>\n",
       "      <td>1976</td>\n",
       "      <td>1976</td>\n",
       "      <td>MetalSd</td>\n",
       "      <td>0.0</td>\n",
       "      <td>1262.0</td>\n",
       "      <td>181500.0</td>\n",
       "    </tr>\n",
       "    <tr>\n",
       "      <th>2</th>\n",
       "      <td>2</td>\n",
       "      <td>60</td>\n",
       "      <td>RL</td>\n",
       "      <td>11250</td>\n",
       "      <td>Inside</td>\n",
       "      <td>1Fam</td>\n",
       "      <td>5</td>\n",
       "      <td>2001</td>\n",
       "      <td>2002</td>\n",
       "      <td>VinylSd</td>\n",
       "      <td>0.0</td>\n",
       "      <td>920.0</td>\n",
       "      <td>223500.0</td>\n",
       "    </tr>\n",
       "    <tr>\n",
       "      <th>3</th>\n",
       "      <td>3</td>\n",
       "      <td>70</td>\n",
       "      <td>RL</td>\n",
       "      <td>9550</td>\n",
       "      <td>Corner</td>\n",
       "      <td>1Fam</td>\n",
       "      <td>5</td>\n",
       "      <td>1915</td>\n",
       "      <td>1970</td>\n",
       "      <td>Wd Sdng</td>\n",
       "      <td>0.0</td>\n",
       "      <td>756.0</td>\n",
       "      <td>140000.0</td>\n",
       "    </tr>\n",
       "    <tr>\n",
       "      <th>4</th>\n",
       "      <td>4</td>\n",
       "      <td>60</td>\n",
       "      <td>RL</td>\n",
       "      <td>14260</td>\n",
       "      <td>FR2</td>\n",
       "      <td>1Fam</td>\n",
       "      <td>5</td>\n",
       "      <td>2000</td>\n",
       "      <td>2000</td>\n",
       "      <td>VinylSd</td>\n",
       "      <td>0.0</td>\n",
       "      <td>1145.0</td>\n",
       "      <td>250000.0</td>\n",
       "    </tr>\n",
       "    <tr>\n",
       "      <th>5</th>\n",
       "      <td>5</td>\n",
       "      <td>50</td>\n",
       "      <td>RL</td>\n",
       "      <td>14115</td>\n",
       "      <td>Inside</td>\n",
       "      <td>1Fam</td>\n",
       "      <td>5</td>\n",
       "      <td>1993</td>\n",
       "      <td>1995</td>\n",
       "      <td>VinylSd</td>\n",
       "      <td>0.0</td>\n",
       "      <td>796.0</td>\n",
       "      <td>143000.0</td>\n",
       "    </tr>\n",
       "    <tr>\n",
       "      <th>6</th>\n",
       "      <td>6</td>\n",
       "      <td>20</td>\n",
       "      <td>RL</td>\n",
       "      <td>10084</td>\n",
       "      <td>Inside</td>\n",
       "      <td>1Fam</td>\n",
       "      <td>5</td>\n",
       "      <td>2004</td>\n",
       "      <td>2005</td>\n",
       "      <td>VinylSd</td>\n",
       "      <td>0.0</td>\n",
       "      <td>1686.0</td>\n",
       "      <td>307000.0</td>\n",
       "    </tr>\n",
       "    <tr>\n",
       "      <th>7</th>\n",
       "      <td>7</td>\n",
       "      <td>60</td>\n",
       "      <td>RL</td>\n",
       "      <td>10382</td>\n",
       "      <td>Corner</td>\n",
       "      <td>1Fam</td>\n",
       "      <td>6</td>\n",
       "      <td>1973</td>\n",
       "      <td>1973</td>\n",
       "      <td>HdBoard</td>\n",
       "      <td>32.0</td>\n",
       "      <td>1107.0</td>\n",
       "      <td>200000.0</td>\n",
       "    </tr>\n",
       "    <tr>\n",
       "      <th>8</th>\n",
       "      <td>8</td>\n",
       "      <td>50</td>\n",
       "      <td>RM</td>\n",
       "      <td>6120</td>\n",
       "      <td>Inside</td>\n",
       "      <td>1Fam</td>\n",
       "      <td>5</td>\n",
       "      <td>1931</td>\n",
       "      <td>1950</td>\n",
       "      <td>BrkFace</td>\n",
       "      <td>0.0</td>\n",
       "      <td>952.0</td>\n",
       "      <td>129900.0</td>\n",
       "    </tr>\n",
       "    <tr>\n",
       "      <th>9</th>\n",
       "      <td>9</td>\n",
       "      <td>190</td>\n",
       "      <td>RL</td>\n",
       "      <td>7420</td>\n",
       "      <td>Corner</td>\n",
       "      <td>2fmCon</td>\n",
       "      <td>6</td>\n",
       "      <td>1939</td>\n",
       "      <td>1950</td>\n",
       "      <td>MetalSd</td>\n",
       "      <td>0.0</td>\n",
       "      <td>991.0</td>\n",
       "      <td>118000.0</td>\n",
       "    </tr>\n",
       "  </tbody>\n",
       "</table>\n",
       "</div>"
      ],
      "text/plain": [
       "   Id  MSSubClass MSZoning  LotArea LotConfig BldgType  OverallCond  \\\n",
       "0   0          60       RL     8450    Inside     1Fam            5   \n",
       "1   1          20       RL     9600       FR2     1Fam            8   \n",
       "2   2          60       RL    11250    Inside     1Fam            5   \n",
       "3   3          70       RL     9550    Corner     1Fam            5   \n",
       "4   4          60       RL    14260       FR2     1Fam            5   \n",
       "5   5          50       RL    14115    Inside     1Fam            5   \n",
       "6   6          20       RL    10084    Inside     1Fam            5   \n",
       "7   7          60       RL    10382    Corner     1Fam            6   \n",
       "8   8          50       RM     6120    Inside     1Fam            5   \n",
       "9   9         190       RL     7420    Corner   2fmCon            6   \n",
       "\n",
       "   YearBuilt  YearRemodAdd Exterior1st  BsmtFinSF2  TotalBsmtSF  SalePrice  \n",
       "0       2003          2003     VinylSd         0.0        856.0   208500.0  \n",
       "1       1976          1976     MetalSd         0.0       1262.0   181500.0  \n",
       "2       2001          2002     VinylSd         0.0        920.0   223500.0  \n",
       "3       1915          1970     Wd Sdng         0.0        756.0   140000.0  \n",
       "4       2000          2000     VinylSd         0.0       1145.0   250000.0  \n",
       "5       1993          1995     VinylSd         0.0        796.0   143000.0  \n",
       "6       2004          2005     VinylSd         0.0       1686.0   307000.0  \n",
       "7       1973          1973     HdBoard        32.0       1107.0   200000.0  \n",
       "8       1931          1950     BrkFace         0.0        952.0   129900.0  \n",
       "9       1939          1950     MetalSd         0.0        991.0   118000.0  "
      ]
     },
     "execution_count": 85,
     "metadata": {},
     "output_type": "execute_result"
    }
   ],
   "source": [
    "dataset = pd.read_excel(\"HousePricePrediction.xlsx\")\n",
    "dataset.head(10)"
   ]
  },
  {
   "cell_type": "code",
   "execution_count": 86,
   "metadata": {},
   "outputs": [
    {
     "name": "stdout",
     "output_type": "stream",
     "text": [
      "{'int64': 6, 'object': 4, 'float64': 3}\n"
     ]
    }
   ],
   "source": [
    "#Data Preprocessing \n",
    "#Create a function that will return a list of the types of data stored/ Map \n",
    "mymap = dict() #empty dictionary \n",
    "\n",
    "for column, dtype in dataset.dtypes.items(): #to iterate series\n",
    "    mymap[str(dtype)] = mymap.get(str(dtype), 0) + 1\n",
    "\n",
    "print(mymap)"
   ]
  },
  {
   "cell_type": "code",
   "execution_count": 87,
   "metadata": {},
   "outputs": [],
   "source": [
    "def swap(old, new, curr):\n",
    "    if old in curr:\n",
    "        index = curr.index(old)\n",
    "        curr[index] = new    "
   ]
  },
  {
   "cell_type": "code",
   "execution_count": 88,
   "metadata": {},
   "outputs": [
    {
     "name": "stdout",
     "output_type": "stream",
     "text": [
      "                    Id  MSSubClass   LotArea  OverallCond  YearBuilt  \\\n",
      "Id            1.000000    0.011156 -0.033226     0.012609  -0.012713   \n",
      "MSSubClass    0.011156    1.000000 -0.139781    -0.059316   0.027850   \n",
      "LotArea      -0.033226   -0.139781  1.000000    -0.005636   0.014228   \n",
      "OverallCond   0.012609   -0.059316 -0.005636     1.000000  -0.375983   \n",
      "YearBuilt    -0.012713    0.027850  0.014228    -0.375983   1.000000   \n",
      "YearRemodAdd -0.021998    0.040581  0.013788     0.073741   0.592855   \n",
      "BsmtFinSF2   -0.005968   -0.065649  0.111170     0.040229  -0.049107   \n",
      "TotalBsmtSF  -0.015415   -0.238518  0.260833    -0.171098   0.391452   \n",
      "SalePrice    -0.021917   -0.084284  0.263843    -0.077856   0.522897   \n",
      "\n",
      "              YearRemodAdd  BsmtFinSF2  TotalBsmtSF  SalePrice  \n",
      "Id               -0.021998   -0.005968    -0.015415  -0.021917  \n",
      "MSSubClass        0.040581   -0.065649    -0.238518  -0.084284  \n",
      "LotArea           0.013788    0.111170     0.260833   0.263843  \n",
      "OverallCond       0.073741    0.040229    -0.171098  -0.077856  \n",
      "YearBuilt         0.592855   -0.049107     0.391452   0.522897  \n",
      "YearRemodAdd      1.000000   -0.067759     0.291066   0.507101  \n",
      "BsmtFinSF2       -0.067759    1.000000     0.104810  -0.011378  \n",
      "TotalBsmtSF       0.291066    0.104810     1.000000   0.613581  \n",
      "SalePrice         0.507101   -0.011378     0.613581   1.000000  \n",
      "                        Pair  Correlation\n",
      "0   (TotalBsmtSF, SalePrice)     0.613581\n",
      "1  (YearBuilt, YearRemodAdd)     0.592855\n",
      "2     (YearBuilt, SalePrice)     0.522897\n",
      "3  (YearRemodAdd, SalePrice)     0.507101\n",
      "4   (YearBuilt, TotalBsmtSF)     0.391452\n"
     ]
    }
   ],
   "source": [
    "# Select only numerical features for correlation analysis\n",
    "numerical_dataset = dataset.select_dtypes(include=['number'])\n",
    "\n",
    "#Data Cleaning\n",
    "numerical_dataset = numerical_dataset.dropna()  # Removes No value rows\n",
    "\n",
    "#EDA (DATA ANALYSIS)\n",
    "\n",
    "#Correlation chart of the variates compared to one another \n",
    "print(numerical_dataset.corr())\n",
    "\n",
    "\n",
    "#Finding which two variates closely rise together\n",
    "corr_table = numerical_dataset.corr().stack()\n",
    "\n",
    "# Exclude the pairs where X and Y are the same\n",
    "filtered_corr = [(index, value) for index, value in corr_table.items() if index[0] != index[1]]\n",
    "\n",
    "# Sort by absolute value in descending order (we want the top correlations)\n",
    "top_5 = sorted(filtered_corr, key=lambda x: abs(x[1]), reverse=True)[:10]\n",
    "\n",
    "#Takes every other since every correlation appears twice\n",
    "top_5 = top_5[::2]\n",
    "\n",
    "dfcor = pd.DataFrame(top_5, columns=[\"Pair\", \"Correlation\"])\n",
    "print (dfcor)\n"
   ]
  },
  {
   "cell_type": "code",
   "execution_count": 89,
   "metadata": {},
   "outputs": [
    {
     "data": {
      "text/plain": [
       "<Axes: >"
      ]
     },
     "execution_count": 89,
     "metadata": {},
     "output_type": "execute_result"
    },
    {
     "data": {
      "image/png": "[encoded data removed]",
      "text/plain": [
       "<Figure size 1500x1000 with 2 Axes>"
      ]
     },
     "metadata": {},
     "output_type": "display_data"
    }
   ],
   "source": [
    "plt.figure(figsize=(15, 10))\n",
    "sns.heatmap(numerical_dataset.corr(),\n",
    "            cmap = 'BrBG',\n",
    "            fmt = '.2f',\n",
    "            linewidths = 1,\n",
    "            annot = True,\n",
    "            annot_kws={\"size\": 10})\n",
    "\n"
   ]
  },
  {
   "cell_type": "code",
   "execution_count": 90,
   "metadata": {},
   "outputs": [
    {
     "name": "stdout",
     "output_type": "stream",
     "text": [
      "     MSZoning LotConfig BldgType Exterior1st\n",
      "0          RL    Inside     1Fam     VinylSd\n",
      "1          RL       FR2     1Fam     MetalSd\n",
      "2          RL    Inside     1Fam     VinylSd\n",
      "3          RL    Corner     1Fam     Wd Sdng\n",
      "4          RL       FR2     1Fam     VinylSd\n",
      "...       ...       ...      ...         ...\n",
      "2914       RM    Inside    Twnhs     CemntBd\n",
      "2915       RM    Inside   TwnhsE     CemntBd\n",
      "2916       RL    Inside     1Fam     VinylSd\n",
      "2917       RL    Inside     1Fam     HdBoard\n",
      "2918       RL    Inside     1Fam     HdBoard\n",
      "\n",
      "[2919 rows x 4 columns]\n"
     ]
    }
   ],
   "source": [
    "#Analyzing the Catergorical Variates \n",
    "catergorical_dataset = dataset.select_dtypes(include=['object'])\n",
    "\n",
    "print(catergorical_dataset)\n"
   ]
  },
  {
   "cell_type": "code",
   "execution_count": 91,
   "metadata": {},
   "outputs": [
    {
     "name": "stdout",
     "output_type": "stream",
     "text": [
      "MSZoning\n",
      "RL         2265\n",
      "RM          460\n",
      "FV          139\n",
      "RH           26\n",
      "C (all)      25\n",
      "Name: count, dtype: int64\n"
     ]
    },
    {
     "data": {
      "text/plain": [
       "<Axes: xlabel='MSZoning'>"
      ]
     },
     "execution_count": 91,
     "metadata": {},
     "output_type": "execute_result"
    },
    {
     "data": {
      "image/png": "[encoded data removed]",
      "text/plain": [
       "<Figure size 640x480 with 1 Axes>"
      ]
     },
     "metadata": {},
     "output_type": "display_data"
    }
   ],
   "source": [
    "#derive the Unique values in MSZOning \n",
    "MSzone_unique = catergorical_dataset[\"MSZoning\"].unique()\n",
    "\n",
    "freq = catergorical_dataset[\"MSZoning\"].value_counts()\n",
    "print(freq)\n",
    "\n",
    "freq.plot(kind='bar', color='skyblue')\n"
   ]
  },
  {
   "cell_type": "code",
   "execution_count": 92,
   "metadata": {},
   "outputs": [],
   "source": [
    "dataset.drop(['Id'],\n",
    "             axis=1,\n",
    "             inplace=True)\n",
    "new_dataset = dataset.dropna()\n",
    "\n"
   ]
  },
  {
   "cell_type": "code",
   "execution_count": 93,
   "metadata": {},
   "outputs": [
    {
     "name": "stdout",
     "output_type": "stream",
     "text": [
      "Categorical variables:\n",
      "['MSZoning', 'LotConfig', 'BldgType', 'Exterior1st']\n",
      "No. of. categorical features:  4\n"
     ]
    }
   ],
   "source": [
    "from sklearn.preprocessing import OneHotEncoder\n",
    "\n",
    "s = (new_dataset.dtypes == 'object')\n",
    "object_cols = list(s[s].index)\n",
    "print(\"Categorical variables:\")\n",
    "print(object_cols)\n",
    "print('No. of. categorical features: ', \n",
    "      len(object_cols))\n"
   ]
  },
  {
   "cell_type": "code",
   "execution_count": 96,
   "metadata": {},
   "outputs": [],
   "source": [
    "OH_encoder = OneHotEncoder(sparse_output=False, handle_unknown='ignore')\n",
    "OH_cols = pd.DataFrame(OH_encoder.fit_transform(new_dataset[object_cols]))\n",
    "OH_cols.index = new_dataset.index\n",
    "OH_cols.columns = OH_encoder.get_feature_names_out()\n",
    "df_final = new_dataset.drop(object_cols, axis=1)\n",
    "df_final = pd.concat([df_final, OH_cols], axis=1)\n",
    "\n",
    "# This code is modified by Susobhan Akhuli\n"
   ]
  },
  {
   "cell_type": "code",
   "execution_count": 97,
   "metadata": {},
   "outputs": [],
   "source": [
    "from sklearn.metrics import mean_absolute_error\n",
    "from sklearn.model_selection import train_test_split\n",
    "\n",
    "X = df_final.drop(['SalePrice'], axis=1)\n",
    "Y = df_final['SalePrice']\n",
    "\n",
    "# Split the training set into \n",
    "# training and validation set\n",
    "X_train, X_valid, Y_train, Y_valid = train_test_split(\n",
    "    X, Y, train_size=0.8, test_size=0.2, random_state=0)\n"
   ]
  },
  {
   "cell_type": "code",
   "execution_count": 111,
   "metadata": {},
   "outputs": [
    {
     "name": "stdout",
     "output_type": "stream",
     "text": [
      "SVR Model MAE: 0.3009689871130911\n",
      "Linear Regression Model MAE: 0.2064918635154848\n",
      "RandomForestRegressor MAE: 0.1440900236343617\n"
     ]
    }
   ],
   "source": [
    "from sklearn import svm\n",
    "from sklearn.svm import SVC\n",
    "from sklearn.ensemble import RandomForestRegressor\n",
    "from sklearn.linear_model import LinearRegression\n",
    "from sklearn.metrics import mean_absolute_percentage_error\n",
    "\n",
    "\n",
    "model_SVR = svm.SVR()\n",
    "model_SVR.fit(X_train,Y_train)\n",
    "Y_pred = model_SVR.predict(X_valid)\n",
    "\n",
    "print(\"SVR Model MAE:\",mean_absolute_percentage_error(Y_valid, Y_pred))\n",
    "\n",
    "model_LR = LinearRegression()\n",
    "model_LR.fit(X_train, Y_train)\n",
    "Y_pred = model_LR.predict(X_valid)\n",
    "\n",
    "print(\"Linear Regression Model MAE:\",mean_absolute_percentage_error(Y_valid, Y_pred))\n",
    "\n",
    "model_RFR = RandomForestRegressor(n_estimators=10)\n",
    "model_RFR.fit(X_train, Y_train)\n",
    "Y_pred = model_RFR.predict(X_valid)\n",
    "\n",
    "print(\"RandomForestRegressor MAE:\",mean_absolute_percentage_error(Y_valid, Y_pred))\n",
    "\n"
   ]
  },
  {
   "cell_type": "code",
   "execution_count": 112,
   "metadata": {},
   "outputs": [
    {
     "data": {
      "text/plain": [
       "array([237830.        , 117740.        , 141300.        , 170900.        ,\n",
       "        90250.        , 106600.        , 266249.6       , 118160.        ,\n",
       "       516616.2       , 165860.4       , 222657.3       , 166410.        ,\n",
       "       207000.        , 125500.        , 150188.7       , 145580.        ,\n",
       "       191400.        , 155300.        , 148850.        , 124473.8       ,\n",
       "       145510.        , 147498.33333333, 131800.        , 180350.        ,\n",
       "       153880.        , 325437.9       , 173480.        ,  90250.        ,\n",
       "       365370.6       , 120577.6       , 147420.        , 181050.        ,\n",
       "       138730.        , 289250.        , 309578.1       , 202706.        ,\n",
       "       240726.1       , 126350.        , 208227.5       , 292387.        ,\n",
       "       183400.        , 100885.8       , 184249.        , 310487.4       ,\n",
       "       307170.6       , 143775.        , 139790.        , 153900.        ,\n",
       "       198980.        , 107800.        , 317816.7       , 137102.5       ,\n",
       "       170525.        , 105050.        , 226348.        , 101454.9       ,\n",
       "       130857.5       , 207551.        , 143485.        ,  95550.        ,\n",
       "       143515.        , 122850.        , 142682.5       , 182790.        ,\n",
       "       191730.        , 117900.        , 149290.        , 245687.        ,\n",
       "       107990.        , 207560.        , 173780.        , 141965.        ,\n",
       "        80261.1       , 206189.4       ,  90952.2       , 269711.7       ,\n",
       "       143820.        , 120430.        , 346977.8       , 162430.        ,\n",
       "       141715.1       , 132200.        , 162240.        , 136450.        ,\n",
       "       234300.        , 185170.        , 105450.        , 203242.8       ,\n",
       "       194823.1       , 144670.        , 184820.        , 190268.7       ,\n",
       "       196116.5       , 208700.        , 209603.4       , 151675.        ,\n",
       "       234059.9       , 138780.        , 121058.3       , 144910.        ,\n",
       "       260530.        , 161165.2       ,  98630.        , 148080.        ,\n",
       "       105150.        , 270578.        , 199200.        , 116310.        ,\n",
       "       200523.5       , 115150.8       ,  82550.        , 132595.        ,\n",
       "       173388.7       , 127780.        , 168420.        , 140950.        ,\n",
       "       411653.        , 133690.        , 180020.        , 236521.3       ,\n",
       "       163400.        , 168463.3       , 127065.        , 161130.        ,\n",
       "       217640.        , 215193.5       , 398158.1       , 187728.2       ,\n",
       "       221421.7       , 158340.        , 174998.        , 177691.7       ,\n",
       "       117411.2       , 236000.        , 123098.3       , 228570.        ,\n",
       "       106210.        , 187480.        , 149890.        , 184900.        ,\n",
       "       198240.        , 146471.73333333, 184290.        , 142350.        ,\n",
       "       148898.7       , 178450.        , 239008.8       , 149740.        ,\n",
       "       251038.9       , 221173.2       , 158925.        , 301850.5       ,\n",
       "       312206.3       , 155473.7       , 102350.4       , 201040.        ,\n",
       "       138210.        , 146630.        , 157400.        , 161350.        ,\n",
       "       144912.5       , 147988.7       , 180905.2       , 129590.        ,\n",
       "       251192.8       , 150800.        , 143940.        , 323612.        ,\n",
       "       190069.8       , 184090.        , 173730.        , 152240.        ,\n",
       "       204992.8       , 157500.        , 134725.        , 162750.        ,\n",
       "       149430.        , 218100.        , 125470.        , 147190.        ,\n",
       "       223300.        , 161415.        , 101810.        , 275950.        ,\n",
       "       130063.7       , 173525.        ,  85860.        , 181533.2       ,\n",
       "       210161.2       , 145723.33333333, 155300.        , 168080.        ,\n",
       "       234387.9       , 173350.        , 104450.        , 151180.        ,\n",
       "        86350.        , 148700.        , 161370.        , 135343.4       ,\n",
       "       140935.        , 172884.        , 112990.        , 139516.        ,\n",
       "       132800.        , 148720.        , 146850.        , 326291.8       ,\n",
       "       329950.        ,  62188.3       , 153050.        , 233910.        ,\n",
       "        95300.        , 107300.        , 218900.        , 202717.        ,\n",
       "       162590.        , 272500.        , 255850.        , 104050.        ,\n",
       "       190130.        , 162250.        ,  83590.4       , 132100.        ,\n",
       "       183923.        , 255140.        , 322666.8       , 277100.        ,\n",
       "       136720.        , 166880.        ,  95500.        , 133300.        ,\n",
       "       136840.        , 151850.        , 219917.5       , 121710.        ,\n",
       "       127480.        , 121435.        ,  85390.        , 174280.        ,\n",
       "        92360.        , 243752.5       , 212511.        , 201830.        ,\n",
       "       158580.        , 204220.        , 157750.        , 175689.        ,\n",
       "       124030.        , 200618.6       , 168460.        , 272221.3       ,\n",
       "       115720.        , 344792.4       , 216114.3       , 332330.        ,\n",
       "       108700.4       , 205093.8       , 306363.6       , 324040.4       ,\n",
       "       162355.        , 141350.        , 156388.7       , 135650.        ,\n",
       "       400637.4       , 278903.2       , 244450.        ,  83230.        ,\n",
       "       231660.        , 289278.7       , 140907.5       , 219050.        ,\n",
       "       149670.        , 170900.        , 103250.        , 191550.        ,\n",
       "       198550.        , 181993.7       , 215140.        ,  92428.6       ,\n",
       "       141025.        , 424916.9       , 151900.        , 118500.8       ,\n",
       "       212700.        , 138750.        , 110000.4       , 252748.        ,\n",
       "       429166.8       , 111440.        ,  76970.        , 117300.4       ])"
      ]
     },
     "execution_count": 112,
     "metadata": {},
     "output_type": "execute_result"
    }
   ],
   "source": [
    "Y_pred\n"
   ]
  },
  {
   "cell_type": "code",
   "execution_count": null,
   "metadata": {},
   "outputs": [
    {
     "data": {
      "text/plain": [
       "0.1432162902730062"
      ]
     },
     "execution_count": 100,
     "metadata": {},
     "output_type": "execute_result"
    }
   ],
   "source": [
    "\n",
    "\n"
   ]
  }
 ],
 "metadata": {
  "kernelspec": {
   "display_name": "myenv",
   "language": "python",
   "name": "python3"
  },
  "language_info": {
   "codemirror_mode": {
    "name": "ipython",
    "version": 3
   },
   "file_extension": ".py",
   "mimetype": "text/x-python",
   "name": "python",
   "nbconvert_exporter": "python",
   "pygments_lexer": "ipython3",
   "version": "3.10.13"
  }
 },
 "nbformat": 4,
 "nbformat_minor": 2
}
